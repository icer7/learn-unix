{
 "cells": [
  {
   "cell_type": "code",
   "execution_count": 22,
   "metadata": {},
   "outputs": [
    {
     "data": {
      "image/png": "[encoded data removed]",
      "text/plain": [
       "<Figure size 1440x288 with 1 Axes>"
      ]
     },
     "metadata": {
      "needs_background": "light"
     },
     "output_type": "display_data"
    }
   ],
   "source": [
    "% matplotlib inline\n",
    "\n",
    "import matplotlib.pyplot as plt\n",
    "\n",
    "max_time = 1000\n",
    "latency = 200\n",
    "\n",
    "tasks = 3\n",
    "task_nice = [0, 0, 0]\n",
    "task_cpuratio = [1, 1, 1]\n",
    "task_vruntime = [0, 0, 0]\n",
    "\n",
    "total_weight = 0\n",
    "task_weight = []\n",
    "for i in range(tasks):\n",
    "    task_weight.append(1.25 ** (-task_nice[i]))\n",
    "    total_weight += task_weight[i]\n",
    "\n",
    "task_slice = []\n",
    "for i in range(tasks):\n",
    "    task_slice.append(latency * task_weight[i] / total_weight)\n",
    "    \n",
    "time = 0\n",
    "task_selected = []\n",
    "while time < max_time:\n",
    "    cur_task = task_vruntime.index(min(task_vruntime))\n",
    "    task_selected.append(cur_task)\n",
    "    task_vruntime[cur_task] += task_slice[cur_task] * task_cpuratio[cur_task]\n",
    "    time += task_slice[cur_task]\n",
    "    \n",
    "fig, ax = plt.subplots(figsize=(max_time/50,4))\n",
    "ax.grid(axis='y')\n",
    "\n",
    "i = 0;\n",
    "for ctask in task_selected:\n",
    "    ax.broken_barh([(i, task_slice[ctask])], (ctask*10+5, 5), facecolors='blue')\n",
    "    i = i + task_slice[ctask]\n",
    "\n",
    "ax.set_ylim(0, 35)\n",
    "ax.set_xlim(0, 1000)\n",
    "ax.set_xlabel('(ms)')\n",
    "ax.set_yticks([7.5, 17.5, 27.5])\n",
    "ax.set_yticklabels(['task1', 'task2', 'task3'])\n",
    "plt.show()"
   ]
  },
  {
   "cell_type": "code",
   "execution_count": null,
   "metadata": {},
   "outputs": [],
   "source": []
  }
 ],
 "metadata": {
  "kernelspec": {
   "display_name": "Python 3",
   "language": "python",
   "name": "python3"
  },
  "language_info": {
   "codemirror_mode": {
    "name": "ipython",
    "version": 3
   },
   "file_extension": ".py",
   "mimetype": "text/x-python",
   "name": "python",
   "nbconvert_exporter": "python",
   "pygments_lexer": "ipython3",
   "version": "3.7.0"
  }
 },
 "nbformat": 4,
 "nbformat_minor": 2
}
